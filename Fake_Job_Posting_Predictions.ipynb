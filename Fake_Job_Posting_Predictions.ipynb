{
 "cells": [
  {
   "cell_type": "markdown",
   "metadata": {
    "id": "cQPfmjkQKHuV"
   },
   "source": [
    "# NLP in Pyspark's MLlib Project\n",
    "\n",
    "## Fake Job Posting Predictions\n",
    "\n",
    "Indeed.com has just hired you to create a system that automatically flags suspicious job postings on it's website. It has recently seen an influx of fake job postings that is negativley impacting it's customer experience. Becuase of the high volume of job postings it receives everyday, their employees do have the capacity to check every posting so they would like prioritize which postings to review before deleting it. \n",
    "\n",
    "#### Your task\n",
    "Use the attached dataset with NLP to create an alogorthim which automatically flags suspicious posts for review. \n",
    "\n",
    "#### The data\n",
    "This dataset contains 18K job descriptions out of which about 800 are fake. The data consists of both textual information and meta-information about the jobs.\n",
    "\n",
    "**Data Source:** https://www.kaggle.com/shivamb/real-or-fake-fake-jobposting-prediction\n",
    "\n",
    "#### Have fun!"
   ]
  },
  {
   "cell_type": "code",
   "execution_count": 1,
   "metadata": {
    "tags": []
   },
   "outputs": [
    {
     "name": "stdout",
     "output_type": "stream",
     "text": [
      "You are working with 1 core(s)\n"
     ]
    },
    {
     "data": {
      "text/html": [
       "\n",
       "            <div>\n",
       "                <p><b>SparkSession - in-memory</b></p>\n",
       "                \n",
       "        <div>\n",
       "            <p><b>SparkContext</b></p>\n",
       "\n",
       "            <p><a href=\"http://75a6bc2fa8f0:4040\">Spark UI</a></p>\n",
       "\n",
       "            <dl>\n",
       "              <dt>Version</dt>\n",
       "                <dd><code>v3.3.2</code></dd>\n",
       "              <dt>Master</dt>\n",
       "                <dd><code>local[*]</code></dd>\n",
       "              <dt>AppName</dt>\n",
       "                <dd><code>Flag Suspicious Posts</code></dd>\n",
       "            </dl>\n",
       "        </div>\n",
       "        \n",
       "            </div>\n",
       "        "
      ],
      "text/plain": [
       "<pyspark.sql.session.SparkSession at 0x7f8892b35000>"
      ]
     },
     "execution_count": 1,
     "metadata": {},
     "output_type": "execute_result"
    }
   ],
   "source": [
    "import pyspark\n",
    "from pyspark.sql import SparkSession\n",
    "\n",
    "spark = SparkSession.builder.appName('Flag Suspicious Posts').getOrCreate()\n",
    "\n",
    "cores = spark._jsc.sc().getExecutorMemoryStatus().keySet().size()\n",
    "print('You are working with', cores, 'core(s)')\n",
    "spark"
   ]
  },
  {
   "cell_type": "code",
   "execution_count": 2,
   "metadata": {
    "tags": []
   },
   "outputs": [],
   "source": [
    "# !pip install sparknlp\n",
    "# import sparknlp\n",
    "# from sparknlp.annotator import *\n",
    "# from sparknlp.pretrained import *\n",
    "\n",
    "# spark = sparknlp.start()"
   ]
  },
  {
   "cell_type": "code",
   "execution_count": 3,
   "metadata": {
    "id": "YadiBKBJKHvH",
    "tags": []
   },
   "outputs": [],
   "source": [
    "from pyspark.ml.feature import *\n",
    "from pyspark.sql.functions import *\n",
    "from pyspark.sql.types import *\n",
    "from pyspark.ml.classification import *\n",
    "from pyspark.ml.evaluation import *\n",
    "from pyspark.ml.tuning import CrossValidator, ParamGridBuilder\n",
    "from pyspark.ml import Pipeline "
   ]
  },
  {
   "cell_type": "code",
   "execution_count": 4,
   "metadata": {
    "id": "WNCGVciyKHvI",
    "tags": []
   },
   "outputs": [],
   "source": [
    "fake_jobs = spark.read.csv('Datasets/fake_job_postings.csv', inferSchema=True, header=True)"
   ]
  },
  {
   "cell_type": "code",
   "execution_count": 5,
   "metadata": {
    "id": "eQZeT9frKHvJ",
    "tags": []
   },
   "outputs": [
    {
     "data": {
      "text/html": [
       "<div>\n",
       "<style scoped>\n",
       "    .dataframe tbody tr th:only-of-type {\n",
       "        vertical-align: middle;\n",
       "    }\n",
       "\n",
       "    .dataframe tbody tr th {\n",
       "        vertical-align: top;\n",
       "    }\n",
       "\n",
       "    .dataframe thead th {\n",
       "        text-align: right;\n",
       "    }\n",
       "</style>\n",
       "<table border=\"1\" class=\"dataframe\">\n",
       "  <thead>\n",
       "    <tr style=\"text-align: right;\">\n",
       "      <th></th>\n",
       "      <th>job_id</th>\n",
       "      <th>title</th>\n",
       "      <th>location</th>\n",
       "      <th>department</th>\n",
       "      <th>salary_range</th>\n",
       "      <th>company_profile</th>\n",
       "      <th>description</th>\n",
       "      <th>requirements</th>\n",
       "      <th>benefits</th>\n",
       "      <th>telecommuting</th>\n",
       "      <th>has_company_logo</th>\n",
       "      <th>has_questions</th>\n",
       "      <th>employment_type</th>\n",
       "      <th>required_experience</th>\n",
       "      <th>required_education</th>\n",
       "      <th>industry</th>\n",
       "      <th>function</th>\n",
       "      <th>fraudulent</th>\n",
       "    </tr>\n",
       "  </thead>\n",
       "  <tbody>\n",
       "    <tr>\n",
       "      <th>0</th>\n",
       "      <td>1</td>\n",
       "      <td>Marketing Intern</td>\n",
       "      <td>US, NY, New York</td>\n",
       "      <td>Marketing</td>\n",
       "      <td>None</td>\n",
       "      <td>We're Food52, and we've created a groundbreaki...</td>\n",
       "      <td>Food52, a fast-growing, James Beard Award-winn...</td>\n",
       "      <td>Experience with content management systems a m...</td>\n",
       "      <td>None</td>\n",
       "      <td>0</td>\n",
       "      <td>1</td>\n",
       "      <td>0</td>\n",
       "      <td>Other</td>\n",
       "      <td>Internship</td>\n",
       "      <td>None</td>\n",
       "      <td>None</td>\n",
       "      <td>Marketing</td>\n",
       "      <td>0</td>\n",
       "    </tr>\n",
       "    <tr>\n",
       "      <th>1</th>\n",
       "      <td>2</td>\n",
       "      <td>Customer Service - Cloud Video Production</td>\n",
       "      <td>NZ, , Auckland</td>\n",
       "      <td>Success</td>\n",
       "      <td>None</td>\n",
       "      <td>90 Seconds, the worlds Cloud Video Production ...</td>\n",
       "      <td>Organised - Focused - Vibrant - Awesome!Do you...</td>\n",
       "      <td>What we expect from you:Your key responsibilit...</td>\n",
       "      <td>What you will get from usThrough being part of...</td>\n",
       "      <td>0</td>\n",
       "      <td>1</td>\n",
       "      <td>0</td>\n",
       "      <td>Full-time</td>\n",
       "      <td>Not Applicable</td>\n",
       "      <td>None</td>\n",
       "      <td>Marketing and Advertising</td>\n",
       "      <td>Customer Service</td>\n",
       "      <td>0</td>\n",
       "    </tr>\n",
       "    <tr>\n",
       "      <th>2</th>\n",
       "      <td>3</td>\n",
       "      <td>Commissioning Machinery Assistant (CMA)</td>\n",
       "      <td>US, IA, Wever</td>\n",
       "      <td>None</td>\n",
       "      <td>None</td>\n",
       "      <td>Valor Services provides Workforce Solutions th...</td>\n",
       "      <td>Our client, located in Houston, is actively se...</td>\n",
       "      <td>Implement pre-commissioning and commissioning ...</td>\n",
       "      <td>None</td>\n",
       "      <td>0</td>\n",
       "      <td>1</td>\n",
       "      <td>0</td>\n",
       "      <td>None</td>\n",
       "      <td>None</td>\n",
       "      <td>None</td>\n",
       "      <td>None</td>\n",
       "      <td>None</td>\n",
       "      <td>0</td>\n",
       "    </tr>\n",
       "    <tr>\n",
       "      <th>3</th>\n",
       "      <td>4</td>\n",
       "      <td>Account Executive - Washington DC</td>\n",
       "      <td>US, DC, Washington</td>\n",
       "      <td>Sales</td>\n",
       "      <td>None</td>\n",
       "      <td>Our passion for improving quality of life thro...</td>\n",
       "      <td>THE COMPANY: ESRI – Environmental Systems Rese...</td>\n",
       "      <td>EDUCATION: Bachelor’s or Master’s in GIS, busi...</td>\n",
       "      <td>Our culture is anything but corporate—we have ...</td>\n",
       "      <td>0</td>\n",
       "      <td>1</td>\n",
       "      <td>0</td>\n",
       "      <td>Full-time</td>\n",
       "      <td>Mid-Senior level</td>\n",
       "      <td>Bachelor's Degree</td>\n",
       "      <td>Computer Software</td>\n",
       "      <td>Sales</td>\n",
       "      <td>0</td>\n",
       "    </tr>\n",
       "    <tr>\n",
       "      <th>4</th>\n",
       "      <td>5</td>\n",
       "      <td>Bill Review Manager</td>\n",
       "      <td>US, FL, Fort Worth</td>\n",
       "      <td>None</td>\n",
       "      <td>None</td>\n",
       "      <td>SpotSource Solutions LLC is a Global Human Cap...</td>\n",
       "      <td>JOB TITLE: Itemization Review ManagerLOCATION:...</td>\n",
       "      <td>QUALIFICATIONS:RN license in the State of Texa...</td>\n",
       "      <td>Full Benefits Offered</td>\n",
       "      <td>0</td>\n",
       "      <td>1</td>\n",
       "      <td>1</td>\n",
       "      <td>Full-time</td>\n",
       "      <td>Mid-Senior level</td>\n",
       "      <td>Bachelor's Degree</td>\n",
       "      <td>Hospital &amp; Health Care</td>\n",
       "      <td>Health Care Provider</td>\n",
       "      <td>0</td>\n",
       "    </tr>\n",
       "  </tbody>\n",
       "</table>\n",
       "</div>"
      ],
      "text/plain": [
       "   job_id                                      title            location  \\\n",
       "0       1                           Marketing Intern    US, NY, New York   \n",
       "1       2  Customer Service - Cloud Video Production      NZ, , Auckland   \n",
       "2       3    Commissioning Machinery Assistant (CMA)       US, IA, Wever   \n",
       "3       4          Account Executive - Washington DC  US, DC, Washington   \n",
       "4       5                        Bill Review Manager  US, FL, Fort Worth   \n",
       "\n",
       "  department salary_range                                    company_profile  \\\n",
       "0  Marketing         None  We're Food52, and we've created a groundbreaki...   \n",
       "1    Success         None  90 Seconds, the worlds Cloud Video Production ...   \n",
       "2       None         None  Valor Services provides Workforce Solutions th...   \n",
       "3      Sales         None  Our passion for improving quality of life thro...   \n",
       "4       None         None  SpotSource Solutions LLC is a Global Human Cap...   \n",
       "\n",
       "                                         description  \\\n",
       "0  Food52, a fast-growing, James Beard Award-winn...   \n",
       "1  Organised - Focused - Vibrant - Awesome!Do you...   \n",
       "2  Our client, located in Houston, is actively se...   \n",
       "3  THE COMPANY: ESRI – Environmental Systems Rese...   \n",
       "4  JOB TITLE: Itemization Review ManagerLOCATION:...   \n",
       "\n",
       "                                        requirements  \\\n",
       "0  Experience with content management systems a m...   \n",
       "1  What we expect from you:Your key responsibilit...   \n",
       "2  Implement pre-commissioning and commissioning ...   \n",
       "3  EDUCATION: Bachelor’s or Master’s in GIS, busi...   \n",
       "4  QUALIFICATIONS:RN license in the State of Texa...   \n",
       "\n",
       "                                            benefits telecommuting  \\\n",
       "0                                               None             0   \n",
       "1  What you will get from usThrough being part of...             0   \n",
       "2                                               None             0   \n",
       "3  Our culture is anything but corporate—we have ...             0   \n",
       "4                              Full Benefits Offered             0   \n",
       "\n",
       "  has_company_logo has_questions employment_type required_experience  \\\n",
       "0                1             0           Other          Internship   \n",
       "1                1             0       Full-time      Not Applicable   \n",
       "2                1             0            None                None   \n",
       "3                1             0       Full-time    Mid-Senior level   \n",
       "4                1             1       Full-time    Mid-Senior level   \n",
       "\n",
       "  required_education                   industry              function  \\\n",
       "0               None                       None             Marketing   \n",
       "1               None  Marketing and Advertising      Customer Service   \n",
       "2               None                       None                  None   \n",
       "3  Bachelor's Degree          Computer Software                 Sales   \n",
       "4  Bachelor's Degree     Hospital & Health Care  Health Care Provider   \n",
       "\n",
       "  fraudulent  \n",
       "0          0  \n",
       "1          0  \n",
       "2          0  \n",
       "3          0  \n",
       "4          0  "
      ]
     },
     "execution_count": 5,
     "metadata": {},
     "output_type": "execute_result"
    }
   ],
   "source": [
    "fake_jobs.limit(5).toPandas()"
   ]
  },
  {
   "cell_type": "code",
   "execution_count": 6,
   "metadata": {
    "id": "BahgZStCKHvK",
    "tags": []
   },
   "outputs": [
    {
     "name": "stdout",
     "output_type": "stream",
     "text": [
      "root\n",
      " |-- job_id: integer (nullable = true)\n",
      " |-- title: string (nullable = true)\n",
      " |-- location: string (nullable = true)\n",
      " |-- department: string (nullable = true)\n",
      " |-- salary_range: string (nullable = true)\n",
      " |-- company_profile: string (nullable = true)\n",
      " |-- description: string (nullable = true)\n",
      " |-- requirements: string (nullable = true)\n",
      " |-- benefits: string (nullable = true)\n",
      " |-- telecommuting: string (nullable = true)\n",
      " |-- has_company_logo: string (nullable = true)\n",
      " |-- has_questions: string (nullable = true)\n",
      " |-- employment_type: string (nullable = true)\n",
      " |-- required_experience: string (nullable = true)\n",
      " |-- required_education: string (nullable = true)\n",
      " |-- industry: string (nullable = true)\n",
      " |-- function: string (nullable = true)\n",
      " |-- fraudulent: string (nullable = true)\n",
      "\n"
     ]
    }
   ],
   "source": [
    "fake_jobs.printSchema()"
   ]
  },
  {
   "cell_type": "code",
   "execution_count": 7,
   "metadata": {
    "tags": []
   },
   "outputs": [
    {
     "name": "stdout",
     "output_type": "stream",
     "text": [
      "+-------------------+-----------------+------------------+\n",
      "|        Column_Name|Null_Values_Count|Null_Value_Percent|\n",
      "+-------------------+-----------------+------------------+\n",
      "|       salary_range|            15011|            83.954|\n",
      "|         department|            11547|            64.581|\n",
      "| required_education|             7748|            43.333|\n",
      "|           benefits|             6966|             38.96|\n",
      "|required_experience|             6723|            37.601|\n",
      "|           function|             6317|             35.33|\n",
      "|           industry|             4831|            27.019|\n",
      "|    company_profile|             3308|            18.501|\n",
      "|    employment_type|             3292|            18.412|\n",
      "|       requirements|             2573|             14.39|\n",
      "|           location|              346|             1.935|\n",
      "|         fraudulent|              176|             0.984|\n",
      "|      telecommuting|               89|             0.498|\n",
      "|      has_questions|               30|             0.168|\n",
      "|   has_company_logo|               29|             0.162|\n",
      "|        description|                1|             0.006|\n",
      "+-------------------+-----------------+------------------+\n",
      "\n"
     ]
    }
   ],
   "source": [
    "def null_value_calc(df):\n",
    "    null_columns_counts = []\n",
    "    numRows = df.count()\n",
    "    for k in df.columns:\n",
    "        nullRows = df.where(col(k).isNull()).count()\n",
    "        if(nullRows > 0):\n",
    "            temp = k, nullRows,(nullRows/numRows)*100\n",
    "            null_columns_counts.append(temp)\n",
    "    return(null_columns_counts)\n",
    "\n",
    "null_columns_calc_list = sorted(null_value_calc(fake_jobs), reverse=True, key=lambda x: x[-1])\n",
    "\n",
    "spark.createDataFrame(null_columns_calc_list, ['Column_Name', 'Null_Values_Count','Null_Value_Percent']). \\\n",
    "withColumn('Null_Value_Percent', round('Null_Value_Percent', 3)).show()"
   ]
  },
  {
   "cell_type": "code",
   "execution_count": 8,
   "metadata": {
    "tags": []
   },
   "outputs": [
    {
     "name": "stdout",
     "output_type": "stream",
     "text": [
      "+--------------------+-----+\n",
      "|          fraudulent|count|\n",
      "+--------------------+-----+\n",
      "|                   0|16080|\n",
      "|                   1|  886|\n",
      "|                null|  176|\n",
      "|           Full-time|   73|\n",
      "|Hospital & Health...|   55|\n",
      "|   Bachelor's Degree|   53|\n",
      "|         Engineering|   26|\n",
      "| perform quality ...|   17|\n",
      "|         Unspecified|   15|\n",
      "|    Mid-Senior level|   15|\n",
      "|           Associate|   14|\n",
      "|               Sales|   14|\n",
      "|Information Techn...|   13|\n",
      "|           Marketing|   13|\n",
      "| passionate about...|   13|\n",
      "|            Internet|   12|\n",
      "|   Computer Software|   12|\n",
      "|      Not Applicable|   11|\n",
      "|We offer an excel...|   11|\n",
      "| además con el fi...|   10|\n",
      "+--------------------+-----+\n",
      "only showing top 20 rows\n",
      "\n"
     ]
    }
   ],
   "source": [
    "fake_jobs.groupBy('fraudulent').count().orderBy('count', ascending=False).show()"
   ]
  },
  {
   "cell_type": "code",
   "execution_count": 9,
   "metadata": {
    "tags": []
   },
   "outputs": [],
   "source": [
    "fake_jobs = fake_jobs.filter('fraudulent IN(0, 1)')"
   ]
  },
  {
   "cell_type": "code",
   "execution_count": 10,
   "metadata": {
    "tags": []
   },
   "outputs": [
    {
     "name": "stdout",
     "output_type": "stream",
     "text": [
      "+----------+-----+\n",
      "|fraudulent|count|\n",
      "+----------+-----+\n",
      "|         0|16080|\n",
      "|         1|  886|\n",
      "+----------+-----+\n",
      "\n"
     ]
    }
   ],
   "source": [
    "fake_jobs.groupBy('fraudulent').count().orderBy('count', ascending=False).show()"
   ]
  },
  {
   "cell_type": "code",
   "execution_count": 11,
   "metadata": {
    "tags": []
   },
   "outputs": [],
   "source": [
    "fake_jobs = fake_jobs.drop('job_id', 'salary_range')"
   ]
  },
  {
   "cell_type": "code",
   "execution_count": 12,
   "metadata": {
    "tags": []
   },
   "outputs": [
    {
     "data": {
      "text/plain": [
       "16"
      ]
     },
     "execution_count": 12,
     "metadata": {},
     "output_type": "execute_result"
    }
   ],
   "source": [
    "len(fake_jobs.columns)"
   ]
  },
  {
   "cell_type": "code",
   "execution_count": 13,
   "metadata": {
    "tags": []
   },
   "outputs": [
    {
     "name": "stdout",
     "output_type": "stream",
     "text": [
      "Total Rows that contain 10 null values: 2187\n",
      "Percentage of Rows that contain 10 null values value: 0.12890486856065073\n"
     ]
    }
   ],
   "source": [
    "orig_len = fake_jobs.count()\n",
    "drop_len = fake_jobs.dropna(thresh=10).count()\n",
    "print('Total Rows that contain 10 null values:', orig_len-drop_len)\n",
    "print('Percentage of Rows that contain 10 null values value:', (orig_len-drop_len)/orig_len)"
   ]
  },
  {
   "cell_type": "code",
   "execution_count": 14,
   "metadata": {
    "tags": []
   },
   "outputs": [],
   "source": [
    "fake_jobs = fake_jobs.dropna(thresh=10)\n",
    "fake_jobs = fake_jobs.na.fill(' ')"
   ]
  },
  {
   "cell_type": "code",
   "execution_count": 15,
   "metadata": {
    "tags": []
   },
   "outputs": [
    {
     "data": {
      "text/html": [
       "<div>\n",
       "<style scoped>\n",
       "    .dataframe tbody tr th:only-of-type {\n",
       "        vertical-align: middle;\n",
       "    }\n",
       "\n",
       "    .dataframe tbody tr th {\n",
       "        vertical-align: top;\n",
       "    }\n",
       "\n",
       "    .dataframe thead th {\n",
       "        text-align: right;\n",
       "    }\n",
       "</style>\n",
       "<table border=\"1\" class=\"dataframe\">\n",
       "  <thead>\n",
       "    <tr style=\"text-align: right;\">\n",
       "      <th></th>\n",
       "      <th>title</th>\n",
       "      <th>location</th>\n",
       "      <th>department</th>\n",
       "      <th>company_profile</th>\n",
       "      <th>description</th>\n",
       "      <th>requirements</th>\n",
       "      <th>benefits</th>\n",
       "      <th>telecommuting</th>\n",
       "      <th>has_company_logo</th>\n",
       "      <th>has_questions</th>\n",
       "      <th>employment_type</th>\n",
       "      <th>required_experience</th>\n",
       "      <th>required_education</th>\n",
       "      <th>industry</th>\n",
       "      <th>function</th>\n",
       "      <th>fraudulent</th>\n",
       "    </tr>\n",
       "  </thead>\n",
       "  <tbody>\n",
       "    <tr>\n",
       "      <th>0</th>\n",
       "      <td>0</td>\n",
       "      <td>0</td>\n",
       "      <td>0</td>\n",
       "      <td>0</td>\n",
       "      <td>0</td>\n",
       "      <td>0</td>\n",
       "      <td>0</td>\n",
       "      <td>0</td>\n",
       "      <td>0</td>\n",
       "      <td>0</td>\n",
       "      <td>0</td>\n",
       "      <td>0</td>\n",
       "      <td>0</td>\n",
       "      <td>0</td>\n",
       "      <td>0</td>\n",
       "      <td>0</td>\n",
       "    </tr>\n",
       "  </tbody>\n",
       "</table>\n",
       "</div>"
      ],
      "text/plain": [
       "   title  location  department  company_profile  description  requirements  \\\n",
       "0      0         0           0                0            0             0   \n",
       "\n",
       "   benefits  telecommuting  has_company_logo  has_questions  employment_type  \\\n",
       "0         0              0                 0              0                0   \n",
       "\n",
       "   required_experience  required_education  industry  function  fraudulent  \n",
       "0                    0                   0         0         0           0  "
      ]
     },
     "execution_count": 15,
     "metadata": {},
     "output_type": "execute_result"
    }
   ],
   "source": [
    "fake_jobs.select([count(when(isnan(c), c)).alias(c) for c in fake_jobs.columns]).limit(5).toPandas()"
   ]
  },
  {
   "cell_type": "code",
   "execution_count": 16,
   "metadata": {
    "tags": []
   },
   "outputs": [],
   "source": [
    "import pandas as pd\n",
    "\n",
    "pd.set_option('display.max_colwidth', None)\n",
    "\n",
    "fake_jobs = fake_jobs.select(concat_ws(' ', fake_jobs.title, fake_jobs.location, fake_jobs.department, fake_jobs.company_profile, \n",
    "                          fake_jobs.description, fake_jobs.requirements, fake_jobs.benefits, fake_jobs.employment_type,\n",
    "                          fake_jobs.required_experience, fake_jobs.required_education, fake_jobs.industry, fake_jobs.function). \\\n",
    "                alias('text'), 'fraudulent')"
   ]
  },
  {
   "cell_type": "code",
   "execution_count": 17,
   "metadata": {
    "tags": []
   },
   "outputs": [
    {
     "data": {
      "text/html": [
       "<div>\n",
       "<style scoped>\n",
       "    .dataframe tbody tr th:only-of-type {\n",
       "        vertical-align: middle;\n",
       "    }\n",
       "\n",
       "    .dataframe tbody tr th {\n",
       "        vertical-align: top;\n",
       "    }\n",
       "\n",
       "    .dataframe thead th {\n",
       "        text-align: right;\n",
       "    }\n",
       "</style>\n",
       "<table border=\"1\" class=\"dataframe\">\n",
       "  <thead>\n",
       "    <tr style=\"text-align: right;\">\n",
       "      <th></th>\n",
       "      <th>text</th>\n",
       "      <th>fraudulent</th>\n",
       "    </tr>\n",
       "  </thead>\n",
       "  <tbody>\n",
       "    <tr>\n",
       "      <th>0</th>\n",
       "      <td>Marketing Intern US, NY, New York Marketing We're Food52, and we've created a groundbreaking and award-winning cooking site. We support, connect, and celebrate home cooks, and give them everything they need in one place.We have a top editorial, business, and engineering team. We're focused on using technology to find new and better ways to connect people around their specific food interests, and to offer them superb, highly curated information about food and cooking. We attract the most talented home cooks and contributors in the country; we also publish well-known professionals like Mario Batali, Gwyneth Paltrow, and Danny Meyer. And we have partnerships with Whole Foods Market and Random House.Food52 has been named the best food website by the James Beard Foundation and IACP, and has been featured in the New York Times, NPR, Pando Daily, TechCrunch, and on the Today Show.We're located in Chelsea, in New York City. Food52, a fast-growing, James Beard Award-winning online food community and crowd-sourced and curated recipe hub, is currently interviewing full- and part-time unpaid interns to work in a small team of editors, executives, and developers in its New York City headquarters.Reproducing and/or repackaging existing Food52 content for a number of partner sites, such as Huffington Post, Yahoo, Buzzfeed, and more in their various content management systemsResearching blogs and websites for the Provisions by Food52 Affiliate ProgramAssisting in day-to-day affiliate program support, such as screening affiliates and assisting in any affiliate inquiriesSupporting with PR &amp;amp; Events when neededHelping with office administrative work, such as filing, mailing, and preparing for meetingsWorking with developers to document bugs and suggest improvements to the siteSupporting the marketing and executive staff Experience with content management systems a major plus (any blogging counts!)Familiar with the Food52 editorial voice and aestheticLoves food, appreciates the importance of home cooking and cooking with the seasonsMeticulous editor, perfectionist, obsessive attention to detail, maddened by typos and broken links, delighted by finding and fixing themCheerful under pressureExcellent communication skillsA+ multi-tasker and juggler of responsibilities big and smallInterested in and engaged with social media like Twitter, Facebook, and PinterestLoves problem-solving and collaborating to drive Food52 forwardThinks big picture but pitches in on the nitty gritty of running a small company (dishes, shopping, administrative support)Comfortable with the realities of working for a startup: being on call on evenings and weekends, and working long hours   Other Internship     Marketing</td>\n",
       "      <td>0</td>\n",
       "    </tr>\n",
       "    <tr>\n",
       "      <th>1</th>\n",
       "      <td>Customer Service - Cloud Video Production NZ, , Auckland Success 90 Seconds, the worlds Cloud Video Production Service.90 Seconds is the worlds Cloud Video Production Service enabling brands and agencies to get high quality online video content shot and produced anywhere in the world. 90 Seconds makes video production fast, affordable, and all managed seamlessly in the cloud from purchase to publish. http://90#URL_fbe6559afac620a3cd2c22281f7b8d0eef56a73e3d9a311e2f1ca13d081dd630#90 Seconds removes the hassle, cost, risk and speed issues of working with regular video production companies by managing every aspect of video projects in a beautiful online experience. With a growing global network of over 2,000 rated video professionals in over 50 countries managed by dedicated production success teams in 5 countries, 90 Seconds provides a 100% success guarantee.90 Seconds has produced almost 4,000 videos in over 30 Countries for over 500 Global brands including some of the worlds largest including Paypal, L’Oreal, Sony and Barclays and has offices in Auckland, London, Sydney, Tokyo and Singapore.http://90#URL_fbe6559afac620a3cd2c22281f7b8d0eef56a73e3d9a311e2f1ca13d081dd630# | http://90#URL_e2ad0bde3f09a0913a486abdbb1e6ac373bb3310f64b1fbcf550049bcba4a17b# | http://90#URL_8c5dd1806f97ab90876d9daebeb430f682dbc87e2f01549b47e96c7bff2ea17e#  Organised - Focused - Vibrant - Awesome!Do you have a passion for customer service? Slick typing skills? Maybe Account Management? ...And think administration is cooler than a polar bear on a jetski? Then we need to hear you! We are the Cloud Video Production Service and opperating on a glodal level. Yeah, it's pretty cool. Serious about delivering a world class product and excellent customer service.Our rapidly expanding business is looking for a talented Project Manager to manage the successful delivery of video projects, manage client communications and drive the production process. Work with some of the coolest brands on the planet and learn from a global team that are representing NZ is a huge way!We are entering the next growth stage of our business and growing quickly internationally.  Therefore, the position is bursting with opportunity for the right person entering the business at the right time. 90 Seconds, the worlds Cloud Video Production Service - http://90#URL_fbe6559afac620a3cd2c22281f7b8d0eef56a73e3d9a311e2f1ca13d081dd630#90 Seconds is the worlds Cloud Video Production Service enabling brands and agencies to get high quality online video content shot and produced anywhere in the world. Fast, affordable, and all managed seamlessly in the cloud from purchase to publish. 90 Seconds removes the hassle, cost, risk and speed issues of working with regular video production companies by managing every aspect of video projects in a beautiful online experience.  With a growing network of over 2,000 rated video professionals in over 50 countries and dedicated production success teams in 5 countries guaranteeing video project success 100%. It's as easy as commissioning a quick google adwords campaign.90 Seconds has produced almost 4,000 videos in over 30 Countries for over 500 Global brands including some of the worlds largest including Paypal, L'oreal, Sony and Barclays and has offices in Auckland, London, Sydney, Tokyo &amp;amp; Singapore.Our Auckland office is based right in the heart of the Wynyard Quarter Innovation Precinct - GridAKL!  What we expect from you:Your key responsibility will be to communicate with the client, 90 Seconds team and freelance community throughout the video production process including, shoot planning, securing freelance talent, managing workflow and the online production management system.  The aim is to manage each video project effectively so that we produce great videos that our clients love.Key attributesClient focused - excellent customer service and communication skillsOnline - oustanding computer knowledge and experience using online software and project management toolsOrganised - manage workload and able to multi-task100% attention to detailMotivated - self-starter with a passion for doing excellent work and achieving great resultsAdaptable - show initiative and think on your feet as this is a constantly evolving atmosphereFlexible - fast turnaround work and after hours availabilityEasy going &amp;amp; upbeat - dosen't get bogged down and loves the challengeSense of Humour - have a laugh and know that working in a startup takes guts!Ability to deliver - including meeting project deadlines and budgetAttitude is more important than experience at 90 Seconds, however previous experience in customer service and/or project management is beneficialPlease view our platform / website at #URL_395a8683a907ce95f49a12fb240e6e47ad8d5a4f96d07ebbd869c4dd4dea1826# and get a clear understand about what we do before reaching out. What you will get from usThrough being part of the 90 Seconds team you will gain:experience working on projects located around the world with an international brandexperience working with a variety of clients and on a large range of projectsopportunity to drive and grow production function and teama positive working environment with a great teamPay$40,000-$55,000Applying for this role with a VIDEOBeing a video business, we understand that one of the quickest ways that we can assess your suitability for this role, and one of the quickest ways that you can apply for it, is for you to submit a 60-90 second long video telling us about yourself, your experience and why you think you would be perfect for the role.  It’s not about being a filmmaker or making a really creative video.  A simple video filmed with a smart phone or web cam will be fine. Please also include where you are based and when you can start.You can upload the video onto YouTube or Vimeo (or similar) as a Draft or Live link.APPLICATIONS DUE by 5pm on Wednesday 18th July 2014 - Once you have a video ready, apply for this role via the following link together with a cover letter and your CV. After we have watched your video and get an idea of your suitability for the role, we will email the shortlisted candidates Full-time Not Applicable   Marketing and Advertising Customer Service</td>\n",
       "      <td>0</td>\n",
       "    </tr>\n",
       "    <tr>\n",
       "      <th>2</th>\n",
       "      <td>Account Executive - Washington DC US, DC, Washington Sales Our passion for improving quality of life through geography is at the heart of everything we do.  Esri’s geographic information system (GIS) technology inspires and enables governments, universities and businesses worldwide to save money, lives and our environment through a deeper understanding of the changing world around them.Carefully managed growth and zero debt give Esri stability that is uncommon in today's volatile business world.  Privately held, we offer exceptional benefits, competitive salaries, 401(k) and profit-sharing programs, opportunities for personal and professional growth, and much more. THE COMPANY: ESRI – Environmental Systems Research InstituteOur passion for improving quality of life through geography is at the heart of everything we do.  Esri’s geographic information system (GIS) technology inspires and enables governments, universities and businesses worldwide to save money, lives and our environment through a deeper understanding of the changing world around them.Carefully managed growth and zero debt give Esri stability that is uncommon in today's volatile business world.  Privately held, we offer exceptional benefits, competitive salaries, 401(k) and profit-sharing programs, opportunities for personal and professional growth, and much more.THE OPPORTUNITY: Account ExecutiveAs a member of the Sales Division, you will work collaboratively with an account team in order to sell and promote adoption of Esri’s ArcGIS platform within an organization. As part of an account team, you will be responsible for facilitating the development and execution of a set of strategies for a defined portfolio of accounts. When executing these strategies you will utilize your experience in enterprise sales to help customers leverage geospatial information and technology to achieve their business goals. Specifically…Prospect and develop opportunities to partner with key stakeholders to envision, develop, and implement a location strategy for their organizationClearly articulate the strength and value proposition of the ArcGIS platformDevelop and maintain a healthy pipeline of opportunities for business growthDemonstrate a thoughtful understanding of insightful industry knowledge and how GIS applies to initiatives, trends, and triggersUnderstand the key business drivers within an organization and identify key business stakeholdersUnderstand your customers’ budgeting and acquisition processesSuccessfully execute the account management process including account prioritization, account resourcing, and account planningSuccessfully execute the sales process for all opportunitiesLeverage and lead an account team consisting of sales and other cross-divisional resources to define and execute an account strategyEffectively utilize and leverage the CRM to manage opportunities and drive the buying processPursue professional and personal development to ensure competitive knowledge of the real estate industryLeverage social media to successfully prospect and build a professional networkParticipate in trade shows, workshops, and seminars (as required)Support visual story telling through effective whiteboard sessionsBe resourceful and takes initiative to resolve issues EDUCATION: Bachelor’s or Master’s in GIS, business administration, or a related field, or equivalent work experience, depending on position levelEXPERIENCE: 5+ years of enterprise sales experience providing platform solutions to businessesDemonstrated experience in managing the sales cycle including prospecting, proposing, and closingAbility to adapt to new technology trends and translate them into solutions that address customer needsDemonstrated experience with strong partnerships and advocacy with customersExcellent presentation, white boarding, and negotiation skills including good listening, probing, and qualification abilitiesExperience executing insight selling methodologiesDemonstrated understanding and mitigation of competitive threatsExcellent written and verbal communication and interpersonal skillsAbility to manage and prioritize your activitiesDemonstrated experience to lead executive engagements to provide services and sell to the real estate industryKnowledge of the real estate industry fiscal year, budgeting, and procurement cycleHighly motivated team player with a mature, positive attitude and passion to meet the challenges and opportunities of a businessAbility to travel domestically and/or internationally up to 50%General knowledge of spatial analysis and problem solvingResults oriented; ability to write and craft smart, attainable, realistic, time-driven goals with clear lead indicators Our culture is anything but corporate—we have a collaborative, creative environment; phone directories organized by first name; a relaxed dress code; and open-door policies.A Place to ThrivePassionate people who strive to make a differenceCasual dress codeFlexible work schedulesSupport for continuing educationCollege-Like CampusA network of buildings amid lush landscaping and numerous outdoor patio areasOn-site café including a Starbucks coffee bar and lounge areaFitness center available 24/7Comprehensive reference library and GIS bibliographyState-of-the-art conference center to host staff and guest speakers Green InitiativesSolar rooftop panels reduce carbon emissionsElectric vehicles provide on-campus transportationHundreds of trees reduce the cost of cooling buildings Full-time Mid-Senior level Bachelor's Degree Computer Software Sales</td>\n",
       "      <td>0</td>\n",
       "    </tr>\n",
       "  </tbody>\n",
       "</table>\n",
       "</div>"
      ],
      "text/plain": [
       "                                                                                                                                                                                                                                                                                                                                                                                                                                                                                                                                                                                                                                                                                                                                                                                                                                                                                                                                                                                                                                                                                                                                                                                                                                                                                                                                                                                                                                                                                                                                                                                                                                                                                                                                                                                                                                                                                                                                                                                                                                                                                                                                                                                                                                                                                                                                                                                                                                                                                                                                                                                                                                                                                                                                                                                                                                                                                                                                                                                                                                                                                                                                                                                                                                                                                                                                                                                                                                                                                                                                                                                                                                                                                                                                                                                                                                                                                                                                                                                                                                                                                                                                                                                                                                                                                                                                                                                                                                                                                                                                                                                                                                                                                                                                                                                                                                                                                                                                                                                                                                                                                                                                                                                                                                                                                                                                                                                                                                                                                                                                                                                                                                                                                                                                                                                                                                                                                                                                                                                                                                                                                                                                                                                                                                                                                                                                                                                                                                                                                 text  \\\n",
       "0                                                                                                                                                                                                                                                                                                                                                                                                                                                                                                                                                                                                                                                                                                                                                                                                                                                                                                                                                                                                                                                                                                                                                                                                                                                                                                                                                                                                                                                                                                                                                                                                                                                                                                                                                                                                                                                                                                                                                                                                                                                                                                                                                                                                                                                                                                                                                                                                                                                                                                                                                                                                                                                                                                                                                                                                                                                                                                                                                                                                                                                                                                                                                                                                                                                                                                                                                                                                                                                                                                                                                                                                                                                   Marketing Intern US, NY, New York Marketing We're Food52, and we've created a groundbreaking and award-winning cooking site. We support, connect, and celebrate home cooks, and give them everything they need in one place.We have a top editorial, business, and engineering team. We're focused on using technology to find new and better ways to connect people around their specific food interests, and to offer them superb, highly curated information about food and cooking. We attract the most talented home cooks and contributors in the country; we also publish well-known professionals like Mario Batali, Gwyneth Paltrow, and Danny Meyer. And we have partnerships with Whole Foods Market and Random House.Food52 has been named the best food website by the James Beard Foundation and IACP, and has been featured in the New York Times, NPR, Pando Daily, TechCrunch, and on the Today Show.We're located in Chelsea, in New York City. Food52, a fast-growing, James Beard Award-winning online food community and crowd-sourced and curated recipe hub, is currently interviewing full- and part-time unpaid interns to work in a small team of editors, executives, and developers in its New York City headquarters.Reproducing and/or repackaging existing Food52 content for a number of partner sites, such as Huffington Post, Yahoo, Buzzfeed, and more in their various content management systemsResearching blogs and websites for the Provisions by Food52 Affiliate ProgramAssisting in day-to-day affiliate program support, such as screening affiliates and assisting in any affiliate inquiriesSupporting with PR &amp; Events when neededHelping with office administrative work, such as filing, mailing, and preparing for meetingsWorking with developers to document bugs and suggest improvements to the siteSupporting the marketing and executive staff Experience with content management systems a major plus (any blogging counts!)Familiar with the Food52 editorial voice and aestheticLoves food, appreciates the importance of home cooking and cooking with the seasonsMeticulous editor, perfectionist, obsessive attention to detail, maddened by typos and broken links, delighted by finding and fixing themCheerful under pressureExcellent communication skillsA+ multi-tasker and juggler of responsibilities big and smallInterested in and engaged with social media like Twitter, Facebook, and PinterestLoves problem-solving and collaborating to drive Food52 forwardThinks big picture but pitches in on the nitty gritty of running a small company (dishes, shopping, administrative support)Comfortable with the realities of working for a startup: being on call on evenings and weekends, and working long hours   Other Internship     Marketing   \n",
       "1  Customer Service - Cloud Video Production NZ, , Auckland Success 90 Seconds, the worlds Cloud Video Production Service.90 Seconds is the worlds Cloud Video Production Service enabling brands and agencies to get high quality online video content shot and produced anywhere in the world. 90 Seconds makes video production fast, affordable, and all managed seamlessly in the cloud from purchase to publish. http://90#URL_fbe6559afac620a3cd2c22281f7b8d0eef56a73e3d9a311e2f1ca13d081dd630#90 Seconds removes the hassle, cost, risk and speed issues of working with regular video production companies by managing every aspect of video projects in a beautiful online experience. With a growing global network of over 2,000 rated video professionals in over 50 countries managed by dedicated production success teams in 5 countries, 90 Seconds provides a 100% success guarantee.90 Seconds has produced almost 4,000 videos in over 30 Countries for over 500 Global brands including some of the worlds largest including Paypal, L’Oreal, Sony and Barclays and has offices in Auckland, London, Sydney, Tokyo and Singapore.http://90#URL_fbe6559afac620a3cd2c22281f7b8d0eef56a73e3d9a311e2f1ca13d081dd630# | http://90#URL_e2ad0bde3f09a0913a486abdbb1e6ac373bb3310f64b1fbcf550049bcba4a17b# | http://90#URL_8c5dd1806f97ab90876d9daebeb430f682dbc87e2f01549b47e96c7bff2ea17e#  Organised - Focused - Vibrant - Awesome!Do you have a passion for customer service? Slick typing skills? Maybe Account Management? ...And think administration is cooler than a polar bear on a jetski? Then we need to hear you! We are the Cloud Video Production Service and opperating on a glodal level. Yeah, it's pretty cool. Serious about delivering a world class product and excellent customer service.Our rapidly expanding business is looking for a talented Project Manager to manage the successful delivery of video projects, manage client communications and drive the production process. Work with some of the coolest brands on the planet and learn from a global team that are representing NZ is a huge way!We are entering the next growth stage of our business and growing quickly internationally.  Therefore, the position is bursting with opportunity for the right person entering the business at the right time. 90 Seconds, the worlds Cloud Video Production Service - http://90#URL_fbe6559afac620a3cd2c22281f7b8d0eef56a73e3d9a311e2f1ca13d081dd630#90 Seconds is the worlds Cloud Video Production Service enabling brands and agencies to get high quality online video content shot and produced anywhere in the world. Fast, affordable, and all managed seamlessly in the cloud from purchase to publish. 90 Seconds removes the hassle, cost, risk and speed issues of working with regular video production companies by managing every aspect of video projects in a beautiful online experience.  With a growing network of over 2,000 rated video professionals in over 50 countries and dedicated production success teams in 5 countries guaranteeing video project success 100%. It's as easy as commissioning a quick google adwords campaign.90 Seconds has produced almost 4,000 videos in over 30 Countries for over 500 Global brands including some of the worlds largest including Paypal, L'oreal, Sony and Barclays and has offices in Auckland, London, Sydney, Tokyo &amp; Singapore.Our Auckland office is based right in the heart of the Wynyard Quarter Innovation Precinct - GridAKL!  What we expect from you:Your key responsibility will be to communicate with the client, 90 Seconds team and freelance community throughout the video production process including, shoot planning, securing freelance talent, managing workflow and the online production management system.  The aim is to manage each video project effectively so that we produce great videos that our clients love.Key attributesClient focused - excellent customer service and communication skillsOnline - oustanding computer knowledge and experience using online software and project management toolsOrganised - manage workload and able to multi-task100% attention to detailMotivated - self-starter with a passion for doing excellent work and achieving great resultsAdaptable - show initiative and think on your feet as this is a constantly evolving atmosphereFlexible - fast turnaround work and after hours availabilityEasy going &amp; upbeat - dosen't get bogged down and loves the challengeSense of Humour - have a laugh and know that working in a startup takes guts!Ability to deliver - including meeting project deadlines and budgetAttitude is more important than experience at 90 Seconds, however previous experience in customer service and/or project management is beneficialPlease view our platform / website at #URL_395a8683a907ce95f49a12fb240e6e47ad8d5a4f96d07ebbd869c4dd4dea1826# and get a clear understand about what we do before reaching out. What you will get from usThrough being part of the 90 Seconds team you will gain:experience working on projects located around the world with an international brandexperience working with a variety of clients and on a large range of projectsopportunity to drive and grow production function and teama positive working environment with a great teamPay$40,000-$55,000Applying for this role with a VIDEOBeing a video business, we understand that one of the quickest ways that we can assess your suitability for this role, and one of the quickest ways that you can apply for it, is for you to submit a 60-90 second long video telling us about yourself, your experience and why you think you would be perfect for the role.  It’s not about being a filmmaker or making a really creative video.  A simple video filmed with a smart phone or web cam will be fine. Please also include where you are based and when you can start.You can upload the video onto YouTube or Vimeo (or similar) as a Draft or Live link.APPLICATIONS DUE by 5pm on Wednesday 18th July 2014 - Once you have a video ready, apply for this role via the following link together with a cover letter and your CV. After we have watched your video and get an idea of your suitability for the role, we will email the shortlisted candidates Full-time Not Applicable   Marketing and Advertising Customer Service   \n",
       "2                                                                                                                                                                                                                                                                                                                                                                                                                                                                                                                                                                                                                                                                                                Account Executive - Washington DC US, DC, Washington Sales Our passion for improving quality of life through geography is at the heart of everything we do.  Esri’s geographic information system (GIS) technology inspires and enables governments, universities and businesses worldwide to save money, lives and our environment through a deeper understanding of the changing world around them.Carefully managed growth and zero debt give Esri stability that is uncommon in today's volatile business world.  Privately held, we offer exceptional benefits, competitive salaries, 401(k) and profit-sharing programs, opportunities for personal and professional growth, and much more. THE COMPANY: ESRI – Environmental Systems Research InstituteOur passion for improving quality of life through geography is at the heart of everything we do.  Esri’s geographic information system (GIS) technology inspires and enables governments, universities and businesses worldwide to save money, lives and our environment through a deeper understanding of the changing world around them.Carefully managed growth and zero debt give Esri stability that is uncommon in today's volatile business world.  Privately held, we offer exceptional benefits, competitive salaries, 401(k) and profit-sharing programs, opportunities for personal and professional growth, and much more.THE OPPORTUNITY: Account ExecutiveAs a member of the Sales Division, you will work collaboratively with an account team in order to sell and promote adoption of Esri’s ArcGIS platform within an organization. As part of an account team, you will be responsible for facilitating the development and execution of a set of strategies for a defined portfolio of accounts. When executing these strategies you will utilize your experience in enterprise sales to help customers leverage geospatial information and technology to achieve their business goals. Specifically…Prospect and develop opportunities to partner with key stakeholders to envision, develop, and implement a location strategy for their organizationClearly articulate the strength and value proposition of the ArcGIS platformDevelop and maintain a healthy pipeline of opportunities for business growthDemonstrate a thoughtful understanding of insightful industry knowledge and how GIS applies to initiatives, trends, and triggersUnderstand the key business drivers within an organization and identify key business stakeholdersUnderstand your customers’ budgeting and acquisition processesSuccessfully execute the account management process including account prioritization, account resourcing, and account planningSuccessfully execute the sales process for all opportunitiesLeverage and lead an account team consisting of sales and other cross-divisional resources to define and execute an account strategyEffectively utilize and leverage the CRM to manage opportunities and drive the buying processPursue professional and personal development to ensure competitive knowledge of the real estate industryLeverage social media to successfully prospect and build a professional networkParticipate in trade shows, workshops, and seminars (as required)Support visual story telling through effective whiteboard sessionsBe resourceful and takes initiative to resolve issues EDUCATION: Bachelor’s or Master’s in GIS, business administration, or a related field, or equivalent work experience, depending on position levelEXPERIENCE: 5+ years of enterprise sales experience providing platform solutions to businessesDemonstrated experience in managing the sales cycle including prospecting, proposing, and closingAbility to adapt to new technology trends and translate them into solutions that address customer needsDemonstrated experience with strong partnerships and advocacy with customersExcellent presentation, white boarding, and negotiation skills including good listening, probing, and qualification abilitiesExperience executing insight selling methodologiesDemonstrated understanding and mitigation of competitive threatsExcellent written and verbal communication and interpersonal skillsAbility to manage and prioritize your activitiesDemonstrated experience to lead executive engagements to provide services and sell to the real estate industryKnowledge of the real estate industry fiscal year, budgeting, and procurement cycleHighly motivated team player with a mature, positive attitude and passion to meet the challenges and opportunities of a businessAbility to travel domestically and/or internationally up to 50%General knowledge of spatial analysis and problem solvingResults oriented; ability to write and craft smart, attainable, realistic, time-driven goals with clear lead indicators Our culture is anything but corporate—we have a collaborative, creative environment; phone directories organized by first name; a relaxed dress code; and open-door policies.A Place to ThrivePassionate people who strive to make a differenceCasual dress codeFlexible work schedulesSupport for continuing educationCollege-Like CampusA network of buildings amid lush landscaping and numerous outdoor patio areasOn-site café including a Starbucks coffee bar and lounge areaFitness center available 24/7Comprehensive reference library and GIS bibliographyState-of-the-art conference center to host staff and guest speakers Green InitiativesSolar rooftop panels reduce carbon emissionsElectric vehicles provide on-campus transportationHundreds of trees reduce the cost of cooling buildings Full-time Mid-Senior level Bachelor's Degree Computer Software Sales   \n",
       "\n",
       "  fraudulent  \n",
       "0          0  \n",
       "1          0  \n",
       "2          0  "
      ]
     },
     "execution_count": 17,
     "metadata": {},
     "output_type": "execute_result"
    }
   ],
   "source": [
    "fake_jobs.toPandas().head(3)"
   ]
  },
  {
   "cell_type": "code",
   "execution_count": 18,
   "metadata": {},
   "outputs": [],
   "source": [
    "fake_jobs = fake_jobs.withColumn('text', regexp_replace(col('text'), '[^A-Za-z]+', ' '))\n",
    "\n",
    "fake_jobs = fake_jobs.withColumn('text', lower(regexp_replace(col('text'), '\\s+', ' ')))"
   ]
  },
  {
   "cell_type": "code",
   "execution_count": 19,
   "metadata": {
    "tags": []
   },
   "outputs": [],
   "source": [
    "regex_tokenizer = RegexTokenizer(inputCol='text', outputCol='words', pattern='\\\\W')\n",
    "\n",
    "remover = StopWordsRemover(inputCol=regex_tokenizer.getOutputCol(), outputCol='filtered')\n",
    "\n",
    "indexer = StringIndexer(inputCol='fraudulent', outputCol='label')\n",
    "\n",
    "\n",
    "pipeline = Pipeline(stages=[regex_tokenizer, remover, indexer])\n",
    "data_prep_pl = pipeline.fit(fake_jobs)\n",
    "\n",
    "feature_data = data_prep_pl.transform(fake_jobs)"
   ]
  },
  {
   "cell_type": "code",
   "execution_count": 20,
   "metadata": {},
   "outputs": [],
   "source": [
    "# import sparknlp\n",
    "# from sparknlp.base import *\n",
    "# from sparknlp.annotator import *\n",
    "# from pyspark.ml import Pipeline \n",
    "\n",
    "# documentAssembler = DocumentAssembler().setInputCol('text').setOutputCol('document')\n",
    "\n",
    "# sentenceDetector = SentenceDetector().setInputCols(['document']).setOutputCol('sentence')\n",
    "\n",
    "# regexTokenizer = Tokenizer().setInputCols(['sentence']).setOutputCol('tokens')\n",
    "\n",
    "# stop_words = StopWordsCleaner.pretrained('stopwords_iso','en').setInputCols(['tokens']).setOutputCol('cleanTokens')\n",
    "\n",
    "# lemma = LemmatizerModel.pretrained('lemma_lines', 'en').setInputCols(['cleanTokens']).setOutputCol('lemma')\n",
    "\n",
    "\n",
    "\n",
    "# pipeline = Pipeline(stages=[documentAssembler, sentenceDetector, regex_tokenizer, stop_words, lemma])\n",
    "\n",
    "# feature_data = pipeline.fit(fake_jobs).transform(fake_jobs)"
   ]
  },
  {
   "cell_type": "code",
   "execution_count": 21,
   "metadata": {
    "tags": []
   },
   "outputs": [],
   "source": [
    "# pipeline = PretrainedPipeline('spellcheck_dl_pipeline', lang = 'en')\n",
    "\n",
    "# def spell_check(x):\n",
    "#     ' '.join(pipeline.annotate(text)[0]['checked'])"
   ]
  },
  {
   "cell_type": "code",
   "execution_count": 22,
   "metadata": {},
   "outputs": [
    {
     "data": {
      "text/html": [
       "<div>\n",
       "<style scoped>\n",
       "    .dataframe tbody tr th:only-of-type {\n",
       "        vertical-align: middle;\n",
       "    }\n",
       "\n",
       "    .dataframe tbody tr th {\n",
       "        vertical-align: top;\n",
       "    }\n",
       "\n",
       "    .dataframe thead th {\n",
       "        text-align: right;\n",
       "    }\n",
       "</style>\n",
       "<table border=\"1\" class=\"dataframe\">\n",
       "  <thead>\n",
       "    <tr style=\"text-align: right;\">\n",
       "      <th></th>\n",
       "      <th>text</th>\n",
       "      <th>fraudulent</th>\n",
       "      <th>words</th>\n",
       "      <th>filtered</th>\n",
       "      <th>label</th>\n",
       "    </tr>\n",
       "  </thead>\n",
       "  <tbody>\n",
       "    <tr>\n",
       "      <th>0</th>\n",
       "      <td>marketing intern us ny new york marketing we re food and we ve created a groundbreaking and award winning cooking site we support connect and celebrate home cooks and give them everything they need in one place we have a top editorial business and engineering team we re focused on using technology to find new and better ways to connect people around their specific food interests and to offer them superb highly curated information about food and cooking we attract the most talented home cooks and contributors in the country we also publish well known professionals like mario batali gwyneth paltrow and danny meyer and we have partnerships with whole foods market and random house food has been named the best food website by the james beard foundation and iacp and has been featured in the new york times npr pando daily techcrunch and on the today show we re located in chelsea in new york city food a fast growing james beard award winning online food community and crowd sourced and curated recipe hub is currently interviewing full and part time unpaid interns to work in a small team of editors executives and developers in its new york city headquarters reproducing and or repackaging existing food content for a number of partner sites such as huffington post yahoo buzzfeed and more in their various content management systemsresearching blogs and websites for the provisions by food affiliate programassisting in day to day affiliate program support such as screening affiliates and assisting in any affiliate inquiriessupporting with pr amp events when neededhelping with office administrative work such as filing mailing and preparing for meetingsworking with developers to document bugs and suggest improvements to the sitesupporting the marketing and executive staff experience with content management systems a major plus any blogging counts familiar with the food editorial voice and aestheticloves food appreciates the importance of home cooking and cooking with the seasonsmeticulous editor perfectionist obsessive attention to detail maddened by typos and broken links delighted by finding and fixing themcheerful under pressureexcellent communication skillsa multi tasker and juggler of responsibilities big and smallinterested in and engaged with social media like twitter facebook and pinterestloves problem solving and collaborating to drive food forwardthinks big picture but pitches in on the nitty gritty of running a small company dishes shopping administrative support comfortable with the realities of working for a startup being on call on evenings and weekends and working long hours other internship marketing</td>\n",
       "      <td>0</td>\n",
       "      <td>[marketing, intern, us, ny, new, york, marketing, we, re, food, and, we, ve, created, a, groundbreaking, and, award, winning, cooking, site, we, support, connect, and, celebrate, home, cooks, and, give, them, everything, they, need, in, one, place, we, have, a, top, editorial, business, and, engineering, team, we, re, focused, on, using, technology, to, find, new, and, better, ways, to, connect, people, around, their, specific, food, interests, and, to, offer, them, superb, highly, curated, information, about, food, and, cooking, we, attract, the, most, talented, home, cooks, and, contributors, in, the, country, we, also, publish, well, known, professionals, like, mario, batali, gwyneth, ...]</td>\n",
       "      <td>[marketing, intern, us, ny, new, york, marketing, re, food, ve, created, groundbreaking, award, winning, cooking, site, support, connect, celebrate, home, cooks, give, everything, need, one, place, top, editorial, business, engineering, team, re, focused, using, technology, find, new, better, ways, connect, people, around, specific, food, interests, offer, superb, highly, curated, information, food, cooking, attract, talented, home, cooks, contributors, country, also, publish, well, known, professionals, like, mario, batali, gwyneth, paltrow, danny, meyer, partnerships, whole, foods, market, random, house, food, named, best, food, website, james, beard, foundation, iacp, featured, new, york, times, npr, pando, daily, techcrunch, today, show, re, located, chelsea, new, york, ...]</td>\n",
       "      <td>0.0</td>\n",
       "    </tr>\n",
       "    <tr>\n",
       "      <th>1</th>\n",
       "      <td>customer service cloud video production nz auckland success seconds the worlds cloud video production service seconds is the worlds cloud video production service enabling brands and agencies to get high quality online video content shot and produced anywhere in the world seconds makes video production fast affordable and all managed seamlessly in the cloud from purchase to publish http url fbe afac a cd c f b d eef a e d a e f ca d dd seconds removes the hassle cost risk and speed issues of working with regular video production companies by managing every aspect of video projects in a beautiful online experience with a growing global network of over rated video professionals in over countries managed by dedicated production success teams in countries seconds provides a success guarantee seconds has produced almost videos in over countries for over global brands including some of the worlds largest including paypal l oreal sony and barclays and has offices in auckland london sydney tokyo and singapore http url fbe afac a cd c f b d eef a e d a e f ca d dd http url e ad bde f a a abdbb e ac bb f b fbcf bcba a b http url c dd f ab d daebeb f dbc e f b e c bff ea e organised focused vibrant awesome do you have a passion for customer service slick typing skills maybe account management and think administration is cooler than a polar bear on a jetski then we need to hear you we are the cloud video production service and opperating on a glodal level yeah it s pretty cool serious about delivering a world class product and excellent customer service our rapidly expanding business is looking for a talented project manager to manage the successful delivery of video projects manage client communications and drive the production process work with some of the coolest brands on the planet and learn from a global team that are representing nz is a huge way we are entering the next growth stage of our business and growing quickly internationally therefore the position is bursting with opportunity for the right person entering the business at the right time seconds the worlds cloud video production service http url fbe afac a cd c f b d eef a e d a e f ca d dd seconds is the worlds cloud video production service enabling brands and agencies to get high quality online video content shot and produced anywhere in the world fast affordable and all managed seamlessly in the cloud from purchase to publish seconds removes the hassle cost risk and speed issues of working with regular video production companies by managing every aspect of video projects in a beautiful online experience with a growing network of over rated video professionals in over countries and dedicated production success teams in countries guaranteeing video project success it s as easy as commissioning a quick google adwords campaign seconds has produced almost videos in over countries for over global brands including some of the worlds largest including paypal l oreal sony and barclays and has offices in auckland london sydney tokyo amp singapore our auckland office is based right in the heart of the wynyard quarter innovation precinct gridakl what we expect from you your key responsibility will be to communicate with the client seconds team and freelance community throughout the video production process including shoot planning securing freelance talent managing workflow and the online production management system the aim is to manage each video project effectively so that we produce great videos that our clients love key attributesclient focused excellent customer service and communication skillsonline oustanding computer knowledge and experience using online software and project management toolsorganised manage workload and able to multi task attention to detailmotivated self starter with a passion for doing excellent work and achieving great resultsadaptable show initiative and think on your feet as this is a constantly evolving atmosphereflexible fast turnaround work and after hours availabilityeasy going amp upbeat dosen t get bogged down and loves the challengesense of humour have a laugh and know that working in a startup takes guts ability to deliver including meeting project deadlines and budgetattitude is more important than experience at seconds however previous experience in customer service and or project management is beneficialplease view our platform website at url a a ce f a fb e e ad d a f d ebbd c dd dea and get a clear understand about what we do before reaching out what you will get from usthrough being part of the seconds team you will gain experience working on projects located around the world with an international brandexperience working with a variety of clients and on a large range of projectsopportunity to drive and grow production function and teama positive working environment with a great teampay applying for this role with a videobeing a video business we understand that one of the quickest ways that we can assess your suitability for this role and one of the quickest ways that you can apply for it is for you to submit a second long video telling us about yourself your experience and why you think you would be perfect for the role it s not about being a filmmaker or making a really creative video a simple video filmed with a smart phone or web cam will be fine please also include where you are based and when you can start you can upload the video onto youtube or vimeo or similar as a draft or live link applications due by pm on wednesday th july once you have a video ready apply for this role via the following link together with a cover letter and your cv after we have watched your video and get an idea of your suitability for the role we will email the shortlisted candidates full time not applicable marketing and advertising customer service</td>\n",
       "      <td>0</td>\n",
       "      <td>[customer, service, cloud, video, production, nz, auckland, success, seconds, the, worlds, cloud, video, production, service, seconds, is, the, worlds, cloud, video, production, service, enabling, brands, and, agencies, to, get, high, quality, online, video, content, shot, and, produced, anywhere, in, the, world, seconds, makes, video, production, fast, affordable, and, all, managed, seamlessly, in, the, cloud, from, purchase, to, publish, http, url, fbe, afac, a, cd, c, f, b, d, eef, a, e, d, a, e, f, ca, d, dd, seconds, removes, the, hassle, cost, risk, and, speed, issues, of, working, with, regular, video, production, companies, by, managing, every, aspect, of, video, ...]</td>\n",
       "      <td>[customer, service, cloud, video, production, nz, auckland, success, seconds, worlds, cloud, video, production, service, seconds, worlds, cloud, video, production, service, enabling, brands, agencies, get, high, quality, online, video, content, shot, produced, anywhere, world, seconds, makes, video, production, fast, affordable, managed, seamlessly, cloud, purchase, publish, http, url, fbe, afac, cd, c, f, b, d, eef, e, d, e, f, ca, d, dd, seconds, removes, hassle, cost, risk, speed, issues, working, regular, video, production, companies, managing, every, aspect, video, projects, beautiful, online, experience, growing, global, network, rated, video, professionals, countries, managed, dedicated, production, success, teams, countries, seconds, provides, success, guarantee, seconds, produced, ...]</td>\n",
       "      <td>0.0</td>\n",
       "    </tr>\n",
       "  </tbody>\n",
       "</table>\n",
       "</div>"
      ],
      "text/plain": [
       "                                                                                                                                                                                                                                                                                                                                                                                                                                                                                                                                                                                                                                                                                                                                                                                                                                                                                                                                                                                                                                                                                                                                                                                                                                                                                                                                                                                                                                                                                                                                                                                                                                                                                                                                                                                                                                                                                                                                                                                                                                                                                                                                                                                                                                                                                                                                                                                                                                                                                                                                                                                                                                                                                                                                                                                                                                                                                                                                                                                                                                                                                                                                                                                                                                                                                                                                                                                                                                                                                                                                                                                                                                                                                                                                                                                                                                                                                                                                                                                                                                                                                                                                                                                                                                                                                                                                                                                                                                                                                                                                                                                                                                                                                                                                                                                                                                                                                                                                                                                                                                                                                                                                                                                                                                                                                                                                                                                                                                                                                                                                                                                                                                                                                                                                                                                                                                                                                                                                                                                                                                                                      text  \\\n",
       "0                                                                                                                                                                                                                                                                                                                                                                                                                                                                                                                                                                                                                                                                                                                                                                                                                                                                                                                                                                                                                                                                                                                                                                                                                                                                                                                                                                                                                                                                                                                                                                                                                                                                                                                                                                                                                                                                                                                                                                                                                                                                                                                                                                                                                                                                                                                                                                                                                                                                                                                                                                                                                                                                                                                                                                                                                                                                                                                                                                                                                                                                                                                                                                                                                                                                                                                   marketing intern us ny new york marketing we re food and we ve created a groundbreaking and award winning cooking site we support connect and celebrate home cooks and give them everything they need in one place we have a top editorial business and engineering team we re focused on using technology to find new and better ways to connect people around their specific food interests and to offer them superb highly curated information about food and cooking we attract the most talented home cooks and contributors in the country we also publish well known professionals like mario batali gwyneth paltrow and danny meyer and we have partnerships with whole foods market and random house food has been named the best food website by the james beard foundation and iacp and has been featured in the new york times npr pando daily techcrunch and on the today show we re located in chelsea in new york city food a fast growing james beard award winning online food community and crowd sourced and curated recipe hub is currently interviewing full and part time unpaid interns to work in a small team of editors executives and developers in its new york city headquarters reproducing and or repackaging existing food content for a number of partner sites such as huffington post yahoo buzzfeed and more in their various content management systemsresearching blogs and websites for the provisions by food affiliate programassisting in day to day affiliate program support such as screening affiliates and assisting in any affiliate inquiriessupporting with pr amp events when neededhelping with office administrative work such as filing mailing and preparing for meetingsworking with developers to document bugs and suggest improvements to the sitesupporting the marketing and executive staff experience with content management systems a major plus any blogging counts familiar with the food editorial voice and aestheticloves food appreciates the importance of home cooking and cooking with the seasonsmeticulous editor perfectionist obsessive attention to detail maddened by typos and broken links delighted by finding and fixing themcheerful under pressureexcellent communication skillsa multi tasker and juggler of responsibilities big and smallinterested in and engaged with social media like twitter facebook and pinterestloves problem solving and collaborating to drive food forwardthinks big picture but pitches in on the nitty gritty of running a small company dishes shopping administrative support comfortable with the realities of working for a startup being on call on evenings and weekends and working long hours other internship marketing   \n",
       "1  customer service cloud video production nz auckland success seconds the worlds cloud video production service seconds is the worlds cloud video production service enabling brands and agencies to get high quality online video content shot and produced anywhere in the world seconds makes video production fast affordable and all managed seamlessly in the cloud from purchase to publish http url fbe afac a cd c f b d eef a e d a e f ca d dd seconds removes the hassle cost risk and speed issues of working with regular video production companies by managing every aspect of video projects in a beautiful online experience with a growing global network of over rated video professionals in over countries managed by dedicated production success teams in countries seconds provides a success guarantee seconds has produced almost videos in over countries for over global brands including some of the worlds largest including paypal l oreal sony and barclays and has offices in auckland london sydney tokyo and singapore http url fbe afac a cd c f b d eef a e d a e f ca d dd http url e ad bde f a a abdbb e ac bb f b fbcf bcba a b http url c dd f ab d daebeb f dbc e f b e c bff ea e organised focused vibrant awesome do you have a passion for customer service slick typing skills maybe account management and think administration is cooler than a polar bear on a jetski then we need to hear you we are the cloud video production service and opperating on a glodal level yeah it s pretty cool serious about delivering a world class product and excellent customer service our rapidly expanding business is looking for a talented project manager to manage the successful delivery of video projects manage client communications and drive the production process work with some of the coolest brands on the planet and learn from a global team that are representing nz is a huge way we are entering the next growth stage of our business and growing quickly internationally therefore the position is bursting with opportunity for the right person entering the business at the right time seconds the worlds cloud video production service http url fbe afac a cd c f b d eef a e d a e f ca d dd seconds is the worlds cloud video production service enabling brands and agencies to get high quality online video content shot and produced anywhere in the world fast affordable and all managed seamlessly in the cloud from purchase to publish seconds removes the hassle cost risk and speed issues of working with regular video production companies by managing every aspect of video projects in a beautiful online experience with a growing network of over rated video professionals in over countries and dedicated production success teams in countries guaranteeing video project success it s as easy as commissioning a quick google adwords campaign seconds has produced almost videos in over countries for over global brands including some of the worlds largest including paypal l oreal sony and barclays and has offices in auckland london sydney tokyo amp singapore our auckland office is based right in the heart of the wynyard quarter innovation precinct gridakl what we expect from you your key responsibility will be to communicate with the client seconds team and freelance community throughout the video production process including shoot planning securing freelance talent managing workflow and the online production management system the aim is to manage each video project effectively so that we produce great videos that our clients love key attributesclient focused excellent customer service and communication skillsonline oustanding computer knowledge and experience using online software and project management toolsorganised manage workload and able to multi task attention to detailmotivated self starter with a passion for doing excellent work and achieving great resultsadaptable show initiative and think on your feet as this is a constantly evolving atmosphereflexible fast turnaround work and after hours availabilityeasy going amp upbeat dosen t get bogged down and loves the challengesense of humour have a laugh and know that working in a startup takes guts ability to deliver including meeting project deadlines and budgetattitude is more important than experience at seconds however previous experience in customer service and or project management is beneficialplease view our platform website at url a a ce f a fb e e ad d a f d ebbd c dd dea and get a clear understand about what we do before reaching out what you will get from usthrough being part of the seconds team you will gain experience working on projects located around the world with an international brandexperience working with a variety of clients and on a large range of projectsopportunity to drive and grow production function and teama positive working environment with a great teampay applying for this role with a videobeing a video business we understand that one of the quickest ways that we can assess your suitability for this role and one of the quickest ways that you can apply for it is for you to submit a second long video telling us about yourself your experience and why you think you would be perfect for the role it s not about being a filmmaker or making a really creative video a simple video filmed with a smart phone or web cam will be fine please also include where you are based and when you can start you can upload the video onto youtube or vimeo or similar as a draft or live link applications due by pm on wednesday th july once you have a video ready apply for this role via the following link together with a cover letter and your cv after we have watched your video and get an idea of your suitability for the role we will email the shortlisted candidates full time not applicable marketing and advertising customer service   \n",
       "\n",
       "  fraudulent  \\\n",
       "0          0   \n",
       "1          0   \n",
       "\n",
       "                                                                                                                                                                                                                                                                                                                                                                                                                                                                                                                                                                                                                                                                                                                           words  \\\n",
       "0  [marketing, intern, us, ny, new, york, marketing, we, re, food, and, we, ve, created, a, groundbreaking, and, award, winning, cooking, site, we, support, connect, and, celebrate, home, cooks, and, give, them, everything, they, need, in, one, place, we, have, a, top, editorial, business, and, engineering, team, we, re, focused, on, using, technology, to, find, new, and, better, ways, to, connect, people, around, their, specific, food, interests, and, to, offer, them, superb, highly, curated, information, about, food, and, cooking, we, attract, the, most, talented, home, cooks, and, contributors, in, the, country, we, also, publish, well, known, professionals, like, mario, batali, gwyneth, ...]   \n",
       "1                   [customer, service, cloud, video, production, nz, auckland, success, seconds, the, worlds, cloud, video, production, service, seconds, is, the, worlds, cloud, video, production, service, enabling, brands, and, agencies, to, get, high, quality, online, video, content, shot, and, produced, anywhere, in, the, world, seconds, makes, video, production, fast, affordable, and, all, managed, seamlessly, in, the, cloud, from, purchase, to, publish, http, url, fbe, afac, a, cd, c, f, b, d, eef, a, e, d, a, e, f, ca, d, dd, seconds, removes, the, hassle, cost, risk, and, speed, issues, of, working, with, regular, video, production, companies, by, managing, every, aspect, of, video, ...]   \n",
       "\n",
       "                                                                                                                                                                                                                                                                                                                                                                                                                                                                                                                                                                                                                                                                                                                                                                                                                                filtered  \\\n",
       "0                  [marketing, intern, us, ny, new, york, marketing, re, food, ve, created, groundbreaking, award, winning, cooking, site, support, connect, celebrate, home, cooks, give, everything, need, one, place, top, editorial, business, engineering, team, re, focused, using, technology, find, new, better, ways, connect, people, around, specific, food, interests, offer, superb, highly, curated, information, food, cooking, attract, talented, home, cooks, contributors, country, also, publish, well, known, professionals, like, mario, batali, gwyneth, paltrow, danny, meyer, partnerships, whole, foods, market, random, house, food, named, best, food, website, james, beard, foundation, iacp, featured, new, york, times, npr, pando, daily, techcrunch, today, show, re, located, chelsea, new, york, ...]   \n",
       "1  [customer, service, cloud, video, production, nz, auckland, success, seconds, worlds, cloud, video, production, service, seconds, worlds, cloud, video, production, service, enabling, brands, agencies, get, high, quality, online, video, content, shot, produced, anywhere, world, seconds, makes, video, production, fast, affordable, managed, seamlessly, cloud, purchase, publish, http, url, fbe, afac, cd, c, f, b, d, eef, e, d, e, f, ca, d, dd, seconds, removes, hassle, cost, risk, speed, issues, working, regular, video, production, companies, managing, every, aspect, video, projects, beautiful, online, experience, growing, global, network, rated, video, professionals, countries, managed, dedicated, production, success, teams, countries, seconds, provides, success, guarantee, seconds, produced, ...]   \n",
       "\n",
       "   label  \n",
       "0    0.0  \n",
       "1    0.0  "
      ]
     },
     "execution_count": 22,
     "metadata": {},
     "output_type": "execute_result"
    }
   ],
   "source": [
    "feature_data.toPandas().head(2)"
   ]
  },
  {
   "cell_type": "code",
   "execution_count": 23,
   "metadata": {
    "tags": []
   },
   "outputs": [],
   "source": [
    "word2Vec = Word2Vec(vectorSize=5, minCount=0, inputCol='filtered', outputCol='features')\n",
    "\n",
    "model = word2Vec.fit(feature_data)\n",
    "\n",
    "W2VfeaturizedData = model.transform(feature_data)\n",
    "\n",
    "scaler = MinMaxScaler(inputCol='features', outputCol='scaledFeatures')\n",
    "scalerModel = scaler.fit(W2VfeaturizedData)\n",
    "\n",
    "scaled_data = scalerModel.transform(W2VfeaturizedData)\n",
    "\n",
    "W2VfeaturizedData = scaled_data.select('fraudulent','text','label','scaledFeatures')\n",
    "W2VfeaturizedData = W2VfeaturizedData.withColumnRenamed('scaledFeatures','features')\n",
    "\n",
    "W2VfeaturizedData.name = 'W2VfeaturizedData'"
   ]
  },
  {
   "cell_type": "code",
   "execution_count": 24,
   "metadata": {
    "tags": []
   },
   "outputs": [],
   "source": [
    "def ClassTrainEval(classifier, features, classes, train, test):\n",
    "\n",
    "    def FindMtype(classifier):\n",
    "        # Intstantiate Model\n",
    "        M = classifier\n",
    "        # Learn what it is\n",
    "        Mtype = type(M).__name__\n",
    "        \n",
    "        return Mtype\n",
    "    \n",
    "    Mtype = FindMtype(classifier)\n",
    "    \n",
    "\n",
    "    def IntanceFitModel(Mtype, classifier, classes, features, train):\n",
    "        \n",
    "        if Mtype == 'OneVsRest':\n",
    "            # instantiate the base classifier.\n",
    "            lr = LogisticRegression()\n",
    "            # instantiate the One Vs Rest Classifier.\n",
    "            OVRclassifier = OneVsRest(classifier=lr)\n",
    "#             fitModel = OVRclassifier.fit(train)\n",
    "            # Add parameters of your choice here:\n",
    "            paramGrid = ParamGridBuilder() \\\n",
    "                .addGrid(lr.regParam, [0.1, 0.01]) \\\n",
    "                .build()\n",
    "            #Cross Validator requires the following parameters:\n",
    "            crossval = CrossValidator(estimator=OVRclassifier,\n",
    "                                      estimatorParamMaps=paramGrid,\n",
    "                                      evaluator=BinaryClassificationEvaluator(),\n",
    "                                      numFolds=5) # 3 is best practice\n",
    "            # Run cross-validation, and choose the best set of parameters.\n",
    "            fitModel = crossval.fit(train)\n",
    "            return fitModel\n",
    "        if Mtype == 'MultilayerPerceptronClassifier':\n",
    "            # specify layers for the neural network:\n",
    "            # input layer of size features, two intermediate of features+1 and same size as features\n",
    "            # and output of size number of classes\n",
    "            # Note: crossvalidator cannot be used here\n",
    "            features_count = len(features[0][0])\n",
    "            layers = [features_count, features_count+1, features_count, classes]\n",
    "            MPC_classifier = MultilayerPerceptronClassifier(maxIter=100, layers=layers, blockSize=128, seed=1234)\n",
    "            fitModel = MPC_classifier.fit(train)\n",
    "            return fitModel\n",
    "        if Mtype in('LinearSVC','GBTClassifier') and classes != 2: # These classifiers currently only accept binary classification\n",
    "            print(Mtype,' could not be used because PySpark currently only accepts binary classification data for this algorithm')\n",
    "            return\n",
    "        if Mtype in('LogisticRegression','NaiveBayes','RandomForestClassifier','GBTClassifier','LinearSVC','DecisionTreeClassifier'):\n",
    "  \n",
    "            # Add parameters of your choice here:\n",
    "            if Mtype in('LogisticRegression'):\n",
    "                paramGrid = (ParamGridBuilder() \\\n",
    "#                              .addGrid(classifier.regParam, [0.1, 0.01]) \\\n",
    "                             .addGrid(classifier.maxIter, [10, 15, 20])\n",
    "                             .build())\n",
    "                \n",
    "            # Add parameters of your choice here:\n",
    "            if Mtype in('NaiveBayes'):\n",
    "                paramGrid = (ParamGridBuilder() \\\n",
    "                             .addGrid(classifier.smoothing, [0.0, 0.2, 0.4, 0.6]) \\\n",
    "                             .build())\n",
    "                \n",
    "            # Add parameters of your choice here:\n",
    "            if Mtype in('RandomForestClassifier'):\n",
    "                paramGrid = (ParamGridBuilder() \\\n",
    "                               .addGrid(classifier.maxDepth, [2, 5, 10])\n",
    "#                                .addGrid(classifier.maxBins, [5, 10, 20])\n",
    "#                                .addGrid(classifier.numTrees, [5, 20, 50])\n",
    "                             .build())\n",
    "                \n",
    "            # Add parameters of your choice here:\n",
    "            if Mtype in('GBTClassifier'):\n",
    "                paramGrid = (ParamGridBuilder() \\\n",
    "#                              .addGrid(classifier.maxDepth, [2, 5, 10, 20, 30]) \\\n",
    "#                              .addGrid(classifier.maxBins, [10, 20, 40, 80, 100]) \\\n",
    "                             .addGrid(classifier.maxIter, [10, 15, 50, 100])\n",
    "                             .build())\n",
    "                \n",
    "            # Add parameters of your choice here:\n",
    "            if Mtype in('LinearSVC'):\n",
    "                paramGrid = (ParamGridBuilder() \\\n",
    "                             .addGrid(classifier.maxIter, [10, 15]) \\\n",
    "                             .addGrid(classifier.regParam, [0.1, 0.01]) \\\n",
    "                             .build())\n",
    "            \n",
    "            # Add parameters of your choice here:\n",
    "            if Mtype in('DecisionTreeClassifier'):\n",
    "                paramGrid = (ParamGridBuilder() \\\n",
    "#                              .addGrid(classifier.maxDepth, [2, 5, 10, 20, 30]) \\\n",
    "                             .addGrid(classifier.maxBins, [10, 20, 40, 80, 100]) \\\n",
    "                             .build())\n",
    "            \n",
    "            #Cross Validator requires all of the following parameters:\n",
    "            crossval = CrossValidator(estimator=classifier,\n",
    "                                      estimatorParamMaps=paramGrid,\n",
    "                                      evaluator=BinaryClassificationEvaluator(),\n",
    "                                      numFolds=5) # 3 + is best practice\n",
    "            # Fit Model: Run cross-validation, and choose the best set of parameters.\n",
    "            fitModel = crossval.fit(train)\n",
    "            return fitModel\n",
    "    \n",
    "    fitModel = IntanceFitModel(Mtype, classifier, classes, features, train)\n",
    "    \n",
    "    # Print feature selection metrics\n",
    "    if fitModel is not None:\n",
    "        \n",
    "        if Mtype in('OneVsRest'):\n",
    "            # Get Best Model\n",
    "            BestModel = fitModel.bestModel\n",
    "            print(' ')\n",
    "            print('\\033[1m' + Mtype + '\\033[0m')\n",
    "            # Extract list of binary models\n",
    "            models = BestModel.models\n",
    "            for model in models:\n",
    "                print('\\033[1m' + 'Intercept: '+ '\\033[0m', model.intercept,'\\033[1m' + '\\nCoefficients:'+ '\\033[0m', model.coefficients)\n",
    "\n",
    "        if Mtype == 'MultilayerPerceptronClassifier':\n",
    "            print('')\n",
    "            print('\\033[1m' + Mtype,' Weights'+ '\\033[0m')\n",
    "            print('\\033[1m' + 'Model Weights: '+ '\\033[0m', fitModel.weights.size)\n",
    "            print('')\n",
    "\n",
    "        if Mtype in('DecisionTreeClassifier', 'GBTClassifier','RandomForestClassifier'):\n",
    "            # FEATURE IMPORTANCES\n",
    "            # Estimate of the importance of each feature.\n",
    "            # Each feature’s importance is the average of its importance across all trees \n",
    "            # in the ensemble The importance vector is normalized to sum to 1. \n",
    "            # Get Best Model\n",
    "            BestModel = fitModel.bestModel\n",
    "            print(' ')\n",
    "            print('\\033[1m' + Mtype,' Feature Importances'+ '\\033[0m')\n",
    "            print('(Scores add up to 1)')\n",
    "            print('Lowest score is the least important')\n",
    "            print(' ')\n",
    "            print(BestModel.featureImportances)\n",
    "            \n",
    "            if Mtype in('DecisionTreeClassifier'):\n",
    "                global DT_featureimportances\n",
    "                DT_featureimportances = BestModel.featureImportances.toArray()\n",
    "                global DT_BestModel\n",
    "                DT_BestModel = BestModel\n",
    "            if Mtype in('GBTClassifier'):\n",
    "                global GBT_featureimportances\n",
    "                GBT_featureimportances = BestModel.featureImportances.toArray()\n",
    "                global GBT_BestModel\n",
    "                GBT_BestModel = BestModel\n",
    "            if Mtype in('RandomForestClassifier'):\n",
    "                global RF_featureimportances\n",
    "                RF_featureimportances = BestModel.featureImportances.toArray()\n",
    "                global RF_BestModel\n",
    "                RF_BestModel = BestModel\n",
    "\n",
    "        if Mtype in('LogisticRegression'):\n",
    "            # Get Best Model\n",
    "            BestModel = fitModel.bestModel\n",
    "            print(' ')\n",
    "            print('\\033[1m' + Mtype,' Coefficient Matrix'+ '\\033[0m')\n",
    "            print('You should compares these relative to eachother')\n",
    "            print('Coefficients: \\n' + str(BestModel.coefficientMatrix))\n",
    "            print('Intercept: ' + str(BestModel.interceptVector))\n",
    "            global LR_coefficients\n",
    "            LR_coefficients = BestModel.coefficientMatrix.toArray()\n",
    "            global LR_BestModel\n",
    "            LR_BestModel = BestModel\n",
    "\n",
    "        if Mtype in('LinearSVC'):\n",
    "            # Get Best Model\n",
    "            BestModel = fitModel.bestModel\n",
    "            print(' ')\n",
    "            print('\\033[1m' + Mtype,' Coefficients'+ '\\033[0m')\n",
    "            print('You should compares these relative to eachother')\n",
    "            print('Coefficients: \\n' + str(BestModel.coefficients))\n",
    "            global LSVC_coefficients\n",
    "            LSVC_coefficients = BestModel.coefficients.toArray()\n",
    "            global LSVC_BestModel\n",
    "            LSVC_BestModel = BestModel\n",
    "        \n",
    "   \n",
    "    # Set the column names to match the external results dataframe that we will join with later:\n",
    "    columns = ['Classifier', 'Result']\n",
    "    \n",
    "    if Mtype in('LinearSVC','GBTClassifier') and classes != 2:\n",
    "        Mtype = [Mtype] # make this a list\n",
    "        score = ['N/A']\n",
    "        result = spark.createDataFrame(zip(Mtype, score), schema=columns)\n",
    "    else:\n",
    "        predictions = fitModel.transform(test)\n",
    "        MC_evaluator = BinaryClassificationEvaluator(metricName='areaUnderROC') # redictionCol='prediction',\n",
    "        accuracy = (MC_evaluator.evaluate(predictions))*100\n",
    "        Mtype = [Mtype] # make this a string\n",
    "        score = [str(accuracy)] #make this a string and convert to a list\n",
    "        result = spark.createDataFrame(zip(Mtype, score), schema=columns)\n",
    "        result = result.withColumn('Result', result.Result.substr(0, 5))\n",
    "        \n",
    "    return result\n",
    "    #Also returns the fit model important scores or p values"
   ]
  },
  {
   "cell_type": "code",
   "execution_count": 25,
   "metadata": {
    "tags": []
   },
   "outputs": [],
   "source": [
    "classifiers = [\n",
    "                LogisticRegression()\n",
    "                ,OneVsRest()\n",
    "               ,LinearSVC()\n",
    "               ,NaiveBayes()\n",
    "               ,RandomForestClassifier()\n",
    "               ,GBTClassifier()\n",
    "               ,DecisionTreeClassifier()\n",
    "               ,MultilayerPerceptronClassifier()\n",
    "              ]"
   ]
  },
  {
   "cell_type": "code",
   "execution_count": null,
   "metadata": {
    "tags": []
   },
   "outputs": [
    {
     "name": "stdout",
     "output_type": "stream",
     "text": [
      " \n",
      "\u001b[1mLogisticRegression  Coefficient Matrix\u001b[0m\n",
      "You should compares these relative to eachother\n",
      "Coefficients: \n",
      "DenseMatrix([[-0.88329853, -8.12662828, -4.42253355,  3.47656663,  3.07098487]])\n",
      "\n",
      "Intercept: [1.3010120391442799]\n",
      " \n",
      "\u001b[1mOneVsRest\u001b[0m\n",
      "\u001b[1mIntercept: \u001b[0m 1.279021407332071 \u001b[1m\n",
      "Coefficients:\u001b[0m [-2.3430055667243765,5.110206005470308,1.075032130410985,-1.5474437444272449,-0.9419807272019671]\n",
      "\u001b[1mIntercept: \u001b[0m -1.2790214073320674 \u001b[1m\n",
      "Coefficients:\u001b[0m [2.3430055667243765,-5.110206005470308,-1.0750321304109898,1.5474437444272442,0.9419807272019641]\n",
      " \n",
      "\u001b[1mLinearSVC  Coefficients\u001b[0m\n",
      "You should compares these relative to eachother\n",
      "Coefficients: \n",
      "[-0.02248529327797267,-0.014324214244473138,-0.023552191780259486,0.013239036096754636,0.012966542816556303]\n",
      " \n",
      "\u001b[1mRandomForestClassifier  Feature Importances\u001b[0m\n",
      "(Scores add up to 1)\n",
      "Lowest score is the least important\n",
      " \n",
      "(5,[0,1,2,3,4],[0.22163170826389714,0.19145855614888813,0.1830363620487308,0.1619178896715437,0.24195548386694035])\n",
      " \n",
      "\u001b[1mGBTClassifier  Feature Importances\u001b[0m\n",
      "(Scores add up to 1)\n",
      "Lowest score is the least important\n",
      " \n",
      "(5,[0,1,2,3,4],[0.22705962937843263,0.19614176645079381,0.19667251999893193,0.15937253937645435,0.22075354479538725])\n"
     ]
    }
   ],
   "source": [
    "train = W2VfeaturizedData.sampleBy('label', fractions={0.0: 0.7, 1.0: 0.7}, seed=16647) \n",
    "test = W2VfeaturizedData.subtract(train)\n",
    "\n",
    "features = W2VfeaturizedData.select(['features']).collect()\n",
    "class_count = W2VfeaturizedData.select(countDistinct('label')).collect()\n",
    "classes = class_count[0][0]\n",
    "\n",
    "columns = ['Classifier', 'Result']\n",
    "vals = [('Place Holder','N/A')]\n",
    "results = spark.createDataFrame(vals, columns)\n",
    "\n",
    "for classifier in classifiers:\n",
    "    new_result = ClassTrainEval(classifier, features, classes, train, test)\n",
    "    results = results.union(new_result)\n",
    "\n",
    "results = results.where(\"Classifier!='Place Holder'\")\n",
    "print(results.show(truncate=False))"
   ]
  },
  {
   "cell_type": "code",
   "execution_count": null,
   "metadata": {
    "tags": []
   },
   "outputs": [],
   "source": [
    "predictions = RF_BestModel.transform(test)"
   ]
  },
  {
   "cell_type": "code",
   "execution_count": null,
   "metadata": {
    "tags": []
   },
   "outputs": [],
   "source": [
    "print('Predicted Failures:')\n",
    "predictions.select('text', 'fraudulent', 'prediction').filter('prediction=0').toPandas().head(3)"
   ]
  },
  {
   "cell_type": "code",
   "execution_count": null,
   "metadata": {
    "tags": []
   },
   "outputs": [],
   "source": [
    "print('Predicted Success:')\n",
    "predictions.select('text', 'fraudulent', 'prediction').filter('prediction=1').toPandas().head(3)"
   ]
  },
  {
   "cell_type": "code",
   "execution_count": null,
   "metadata": {},
   "outputs": [],
   "source": []
  }
 ],
 "metadata": {
  "colab": {
   "provenance": []
  },
  "kernelspec": {
   "display_name": "Python 3 (ipykernel)",
   "language": "python",
   "name": "python3"
  },
  "language_info": {
   "codemirror_mode": {
    "name": "ipython",
    "version": 3
   },
   "file_extension": ".py",
   "mimetype": "text/x-python",
   "name": "python",
   "nbconvert_exporter": "python",
   "pygments_lexer": "ipython3",
   "version": "3.10.9"
  }
 },
 "nbformat": 4,
 "nbformat_minor": 4
}
